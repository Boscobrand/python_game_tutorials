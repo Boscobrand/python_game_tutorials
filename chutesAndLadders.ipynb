{
 "cells": [
  {
   "cell_type": "code",
   "execution_count": null,
   "metadata": {},
   "outputs": [],
   "source": [
    "import random"
   ]
  },
  {
   "cell_type": "code",
   "execution_count": null,
   "metadata": {},
   "outputs": [],
   "source": [
    "ladders = {1: 38, 4: 14, 9: 31, 21: 42, 28: 84, 36: 44, 51: 67, 71: 91, 80: 100}"
   ]
  },
  {
   "cell_type": "code",
   "execution_count": null,
   "metadata": {},
   "outputs": [],
   "source": [
    "chutes = {16: 6, 48: 26, 49: 11, 56: 53, 62: 19, 64: 60, 87: 24, 93: 73, 95: 75, 98: 78}"
   ]
  },
  {
   "cell_type": "code",
   "execution_count": null,
   "metadata": {},
   "outputs": [],
   "source": [
    "class Player:\n",
    "    def __init__(self, name):\n",
    "        self.name = name\n",
    "        self.pos = 0\n",
    "        \n",
    "    def spin_wheel(self):\n",
    "        d = random.randint(1, 6)\n",
    "        self.pos += d\n",
    "        print(f'{self.name}: Move forward {d} space(s)')\n",
    "        print(f'{self.name}: Your position is {self.pos}')\n",
    "        \n",
    "    def climb_ladder(self, ladders):\n",
    "        self.pos = ladders.get(self.pos)\n",
    "        print('Yay! You landed on a ladder!')\n",
    "        print(f'{self.name}: Your new position is {self.pos}')\n",
    "        \n",
    "    def slide_down(self, chutes):\n",
    "        self.pos = chutes.get(self.pos)\n",
    "        print('Oh no! You landed on a chute!')\n",
    "        print(f'{self.name}: Your new position is {self.pos}')"
   ]
  },
  {
   "cell_type": "code",
   "execution_count": null,
   "metadata": {},
   "outputs": [],
   "source": [
    "def findCharacters():\n",
    "    characters = []\n",
    "    numChars = int(input('How many players (2-4)? '))\n",
    "    for i in range(numChars):\n",
    "        name = input(f\"Player {i + 1} name? \")\n",
    "        characters.append(Player(name))\n",
    "    return characters"
   ]
  },
  {
   "cell_type": "code",
   "execution_count": null,
   "metadata": {},
   "outputs": [],
   "source": [
    "def instructions():\n",
    "    print(\"Welcome to chutes and ladders. Reach the last space of the board before anybody else does.\")\n",
    "    print(\"Ladders will help you to the top of the board while chutes will hurt you\")\n",
    "    print(\"Press ENTER to start each player's turn\")\n",
    "    print()\n",
    "    print('----------------------------------------------------------------')\n",
    "    print()"
   ]
  },
  {
   "cell_type": "code",
   "execution_count": null,
   "metadata": {},
   "outputs": [],
   "source": [
    "def main():\n",
    "    instructions()\n",
    "    characters = findCharacters()\n",
    "    while characters:\n",
    "        for character in characters:\n",
    "            print()\n",
    "            print(f'{character.name}: It is your turn')\n",
    "            input()\n",
    "            character.spin_wheel()\n",
    "            if character.pos in ladders:\n",
    "                character.climb_ladder(ladders)\n",
    "            if character.pos in chutes:\n",
    "                character.slide_down(chutes)\n",
    "            if character.pos >= 100:\n",
    "                print(f'Congratulations {character.name}! You won!')\n",
    "                return\n",
    "                "
   ]
  },
  {
   "cell_type": "code",
   "execution_count": null,
   "metadata": {},
   "outputs": [],
   "source": [
    "main()"
   ]
  },
  {
   "cell_type": "code",
   "execution_count": null,
   "metadata": {},
   "outputs": [],
   "source": []
  }
 ],
 "metadata": {
  "kernelspec": {
   "display_name": "Python 3",
   "language": "python",
   "name": "python3"
  },
  "language_info": {
   "codemirror_mode": {
    "name": "ipython",
    "version": 3
   },
   "file_extension": ".py",
   "mimetype": "text/x-python",
   "name": "python",
   "nbconvert_exporter": "python",
   "pygments_lexer": "ipython3",
   "version": "3.7.7"
  }
 },
 "nbformat": 4,
 "nbformat_minor": 4
}
