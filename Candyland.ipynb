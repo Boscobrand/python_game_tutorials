{
 "cells": [
  {
   "cell_type": "code",
   "execution_count": null,
   "metadata": {},
   "outputs": [],
   "source": [
    "import random\n",
    "import numpy as np"
   ]
  },
  {
   "cell_type": "code",
   "execution_count": null,
   "metadata": {},
   "outputs": [],
   "source": [
    "class Deck():\n",
    "    \n",
    "    def __init__(self):\n",
    "        self.colors = ['Red', 'Purple', 'Yellow', 'Blue', 'Orange', 'Green']\n",
    "        self.candyPeople = ['Plumpy', 'Mr. Mint', 'Jolly', 'Gramma Nutt', 'Princess Lolly', 'Queen Frostine']\n",
    "        \n",
    "        self.deck = []\n",
    "        self.discard = []\n",
    "        \n",
    "        self.buildDeck()\n",
    "        self.shuffleDeck()\n",
    "        \n",
    "    def buildDeck(self):\n",
    "        for color in self.colors:\n",
    "            for i in range(6):\n",
    "                self.deck.append((color, 1))\n",
    "            for i in range(4):\n",
    "                self.deck.append((color, 2))\n",
    "        for char in self.candyPeople:\n",
    "            self.deck.append(('Pink', char))\n",
    "        \n",
    "    def shuffleDeck(self):\n",
    "        random.shuffle(self.deck)\n",
    "        random.shuffle(self.deck)\n",
    "        random.shuffle(self.deck)\n",
    "        \n",
    "    def reshuffleDeck(self):\n",
    "        self.deck = self.discard\n",
    "        self.discard = []\n",
    "        self.shuffleDeck()\n",
    "        \n",
    "    def isEmpty(self):\n",
    "        return len(self.deck) == 0\n",
    "    \n",
    "    def drawCard(self):\n",
    "        if self.isEmpty():\n",
    "            self.reshuffleDeck()\n",
    "        card = self.deck.pop()\n",
    "        self.discard.append(card)\n",
    "        return card "
   ]
  },
  {
   "cell_type": "code",
   "execution_count": null,
   "metadata": {},
   "outputs": [],
   "source": [
    "class Player():\n",
    "    def __init__(self, name):\n",
    "        self.name = name\n",
    "        self.pos = -1\n",
    "        \n",
    "    def printCard(self, card):\n",
    "        if card[1] == 1:\n",
    "            print(f'{self.name}: You drew a single {card[0]}! Advance to the next {card[0]}!')\n",
    "        elif card[1] == 2:\n",
    "            print(f'{self.name}: You drew a double {card[0]}! Advance two {card[0]}s!')\n",
    "        else:\n",
    "            print(f'{self.name}: You drew the {card[1]} card! Go to {card[1]}!')\n",
    "            \n",
    "        \n",
    "    def move(self, card):\n",
    "        if card[0] == 'Pink':\n",
    "            self.pos = np.where(board == card[1])[0][0]\n",
    "            print(f'Your new position is {self.pos}!')\n",
    "            return\n",
    "        spaces = np.where(board == card[0])[0]\n",
    "        for i in range(card[1]):\n",
    "            if np.any(spaces > self.pos):\n",
    "                self.pos = spaces[np.argmax(spaces > self.pos)]\n",
    "            else:\n",
    "                self.pos = len(board)\n",
    "        print(f'Your new position is {self.pos}!')\n",
    "        return "
   ]
  },
  {
   "cell_type": "code",
   "execution_count": null,
   "metadata": {},
   "outputs": [],
   "source": [
    "def findCharacters():\n",
    "    characters = []\n",
    "    numChars = int(input('How many players (2-4)? '))\n",
    "    for i in range(numChars):\n",
    "        name = input(f\"Player {i + 1} name? \")\n",
    "        characters.append(Player(name))\n",
    "    return characters"
   ]
  },
  {
   "cell_type": "code",
   "execution_count": null,
   "metadata": {},
   "outputs": [],
   "source": [
    "def createBoard():\n",
    "    colors = ['Red', 'Purple', 'Yellow', 'Blue', 'Orange', 'Green']\n",
    "    candyPeople = {'Plumpy': 21, 'Mr. Mint': 33, 'Jolly': 57, 'Gramma Nutt': 84, 'Princess Lolly': 93, \n",
    "               'Queen Frostine': 120}\n",
    "    board = colors * 25\n",
    "    board = np.array(board, dtype=\"<U14\")\n",
    "    for key, value in candyPeople.items():\n",
    "        board[value] = key\n",
    "    return board"
   ]
  },
  {
   "cell_type": "code",
   "execution_count": null,
   "metadata": {},
   "outputs": [],
   "source": [
    "def instructions():\n",
    "    print(\"Welcome to Candyland. Reach the last space of the board before anybody else does.\")\n",
    "    print(\"Draw a card to advance.\")\n",
    "    print(\"Press ENTER to start each player's turn\")\n",
    "    print()\n",
    "    print('----------------------------------------------------------------')\n",
    "    print()"
   ]
  },
  {
   "cell_type": "code",
   "execution_count": null,
   "metadata": {},
   "outputs": [],
   "source": [
    "def main():\n",
    "    instructions()\n",
    "    deck = Deck()\n",
    "    board = createBoard()\n",
    "    characters = findCharacters()\n",
    "    while characters:\n",
    "        for character in characters:\n",
    "            print()\n",
    "            print(f'{character.name}: It is your turn')\n",
    "            input()\n",
    "            card = deck.drawCard()\n",
    "            character.printCard(card)\n",
    "            character.move(card)\n",
    "            if character.pos == len(board):\n",
    "                print(f'Congratulations {character.name}, you won!')\n",
    "                return "
   ]
  },
  {
   "cell_type": "code",
   "execution_count": null,
   "metadata": {},
   "outputs": [],
   "source": [
    "main()"
   ]
  },
  {
   "cell_type": "code",
   "execution_count": null,
   "metadata": {},
   "outputs": [],
   "source": []
  }
 ],
 "metadata": {
  "kernelspec": {
   "display_name": "Python 3",
   "language": "python",
   "name": "python3"
  },
  "language_info": {
   "codemirror_mode": {
    "name": "ipython",
    "version": 3
   },
   "file_extension": ".py",
   "mimetype": "text/x-python",
   "name": "python",
   "nbconvert_exporter": "python",
   "pygments_lexer": "ipython3",
   "version": "3.7.7"
  }
 },
 "nbformat": 4,
 "nbformat_minor": 4
}
