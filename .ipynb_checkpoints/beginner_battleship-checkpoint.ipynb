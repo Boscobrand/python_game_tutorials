{
 "cells": [
  {
   "cell_type": "markdown",
   "metadata": {},
   "source": [
    "# Battleship for Beginners\n",
    "Developed by:\n",
    "    - Austin Montgomery\n",
    "    - Avery Smith\n",
    "Date: 13 April 2020"
   ]
  },
  {
   "cell_type": "markdown",
   "metadata": {},
   "source": [
    "## Introduction\n",
    "In the previous lesson, we saw the beginning steps of how to create Mario Party with Python. We saw examples of creating graphs, creating characters, and simulating dice. In this lesson, we will learn some more basic Python concepts including functions, lists, and if-else statements!"
   ]
  },
  {
   "cell_type": "markdown",
   "metadata": {},
   "source": [
    "### Lists\n",
    "We saw examples of lists in our Mario Party example from last week.\n",
    "```\n",
    "characters_list = ['Mario', 'Diddy Kong', 'Waluigi', 'Boom Boom']\n",
    "```\n",
    "Lists are Python objects that let us store things in a convenient location so we can find them later. It's like when you go to a store with a list written down so you can remember what you need.\n",
    "\n",
    "> Bananas, OJ, yogurt, Chewbacca onesie pajamas\n",
    "\n",
    "One nice thing about lists is that you are able to add and remove things from them. Adding to a list is also known as 'appending.' \n",
    "```\n",
    "characters_list.append('Luigi')\n",
    "```\n",
    "When you append to a list, the thing you are appending gets added to the last element of the list. Removing something from a list works the same way.\n",
    "```\n",
    "characters_list.remove('Boom Boom')\n",
    "```\n",
    "Lists also let you find specific elements within them. Suppose we had forgotten which character was second in our list (Remember that Python is 0-indexed, meaning that the first index is 0. So our second character will have an index of 1). We could type:\n",
    "```\n",
    "characters_list[1]\n",
    "```\n",
    "and we would see that it was Diddy Kong!\n",
    "#### Creating lists\n",
    "We can manually add elements to our list like we did with our character_list but sometimes that takes too long or we don't know exactly what will go into our lists. We are able to fix that problem by using 'for loops' and 'list comprehension.' We will see an example of list comprehension later on but we will skip the details of it for now."
   ]
  },
  {
   "cell_type": "markdown",
   "metadata": {},
   "source": [
    "### If-else statements\n",
    "If-else statements are exactly what they say they are. If something is true, do this. If not, then do that.\n",
    "```\n",
    "if 'Mario' in characters_list:\n",
    "    print(\"Plumber detected\")\n",
    "else:\n",
    "    print(\"How can this be Mario Party without Mario?!?\")\n",
    "```\n",
    "Sometimes we have more than two possible conditions. In these situations, we can use an 'elif' (combining else and if). Let's say that you ask your friend who their favorite Mario Party character is. Your response to them will depend on their favorite character. \n",
    "```\n",
    "if friend_favorite == 'Mario':\n",
    "    print('Boring')\n",
    "elif friend_favorite == 'Bowser':\n",
    "    print('But he is the bad guy!')\n",
    "else:\n",
    "    print('Cool')\n",
    "```\n",
    "Elif isn't used that often but it's good to understand how to think about conditions like these.\n"
   ]
  },
  {
   "cell_type": "markdown",
   "metadata": {},
   "source": [
    "### Functions\n",
    "Sometimes we find ourselves writing the same code over and over again. A good rule of thumb is that if you ever write the same code 3 times or 3more, it's time to write a function.\n",
    "#### What is a function?\n",
    "A function is a chunk of code that runs when you tell it to. It breaks your program into smaller chunks and makes it more organized.\n",
    "#### How do I build a function?\n",
    "When you build a function you must first define it; what will the function be named? This is done by typing `def ` followed by your chosen function name, parentheses, and a colon.\n",
    "```\n",
    "def random_character():\n",
    "```\n",
    "After defining you function, you can put in the chunk of code you want to run each time you call the function.\n",
    "```\n",
    "def random_character():\n",
    "    character_list = ['Mario', 'Luigi', 'Peach', 'Bowser']\n",
    "    random_num = random.randint(0, len(character_list) - 1)\n",
    "    character = character_list[random_num] # Example of list indexing\n",
    "    return character\n",
    "```\n",
    "Now we have a function that will give us a random character anytime we call it.\n",
    "#### How do I call a function?\n",
    "A function is called by simply typing the function's name with the associated parentheses. The result of the function (in the above case, character) can also be assigned to a new variable if the result is needed for later.\n",
    "```\n",
    "random_character()\n",
    "# or\n",
    "new_character = random_character()\n",
    "```\n",
    "#### What are function parameters?\n",
    "Function parameters are things that are 'passed into' a function. These parameters are typed in the parentheses when defining and calling a function. Let's say that instead of having the same character_list every time in our random_character function, we want to be able to select from our original list. We will add a parameter to the function so an outside list can be used.\n",
    "```\n",
    "def random_character(char_list):\n",
    "    random_num = random.randint(0, len(char_list) - 1)\n",
    "    character = char_list[random_num]\n",
    "    return character\n",
    "    \n",
    "new_character = random_character(['Mario', 'Diddy Kong', 'Waluigi', 'Boom Boom'])\n",
    "```\n",
    "Note that char_list is just a placeholder in our function. We can pass in any list as a parameter for the function and it will work. We don't need to pass in a variable already named char_list. "
   ]
  },
  {
   "cell_type": "markdown",
   "metadata": {},
   "source": [
    "### Battleship\n",
    "\n",
    "Now that we've learned some basic Python concepts, let's get started building a game of battleship.\n",
    "\n",
    "#### Objective\n",
    "Build a game where we guess a row and column until we sink the CPU's randomly placed and randomly sized battleship.\n",
    "\n",
    "Note: We haven't learned how some of the code works. It's okay to not understand how something works. Ask questions along the way. "
   ]
  },
  {
   "cell_type": "code",
   "execution_count": 186,
   "metadata": {},
   "outputs": [],
   "source": [
    "# Import random package to be able to create random integers\n",
    "import random"
   ]
  },
  {
   "cell_type": "markdown",
   "metadata": {},
   "source": [
    "First item of business is we need to build a board. The cell below is our first function that we write called, you guessed it, build_board. build_board takes an integer as a parameter for however big of a square you want.\n",
    "\n",
    "We build the board with something called list comprehension. Basically, we are saying that we want to add an element to the list however many times we tell it to. `['O' for count in range(dims)]` will add an 'O' to the list 'dims' times. This list will then be added to a list (So a list of lists) 'dims' times."
   ]
  },
  {
   "cell_type": "code",
   "execution_count": 187,
   "metadata": {},
   "outputs": [],
   "source": [
    "# Create a square board based on dims value\n",
    "def build_board(dims):\n",
    "    return [['O' for count in range(dims)] for count in range(dims)]"
   ]
  },
  {
   "cell_type": "code",
   "execution_count": 188,
   "metadata": {},
   "outputs": [
    {
     "data": {
      "text/plain": [
       "[['O', 'O', 'O', 'O', 'O'],\n",
       " ['O', 'O', 'O', 'O', 'O'],\n",
       " ['O', 'O', 'O', 'O', 'O'],\n",
       " ['O', 'O', 'O', 'O', 'O'],\n",
       " ['O', 'O', 'O', 'O', 'O']]"
      ]
     },
     "execution_count": 188,
     "metadata": {},
     "output_type": "execute_result"
    }
   ],
   "source": [
    "build_board(5)"
   ]
  },
  {
   "cell_type": "markdown",
   "metadata": {},
   "source": [
    "We built and printed our board but it doesn't look very pretty. Let's write another function so that we get rid of the brackets, quotes, and commas. \n",
    "\n",
    "The * symbol is use to print the list elements in a single line with a space. We use a for loop here to print each list element."
   ]
  },
  {
   "cell_type": "code",
   "execution_count": 189,
   "metadata": {},
   "outputs": [],
   "source": [
    "def print_board(board):\n",
    "    for b in board:\n",
    "        print(*b)"
   ]
  },
  {
   "cell_type": "code",
   "execution_count": 190,
   "metadata": {},
   "outputs": [
    {
     "name": "stdout",
     "output_type": "stream",
     "text": [
      "O O O O O\n",
      "O O O O O\n",
      "O O O O O\n",
      "O O O O O\n",
      "O O O O O\n"
     ]
    }
   ],
   "source": [
    "board = build_board(5)\n",
    "print_board(board)"
   ]
  },
  {
   "cell_type": "markdown",
   "metadata": {},
   "source": [
    "Now we're cooking with gas! Okay, time to build a ship. We want the ship to be in a random place on the board. We also don't want to know how long the ship is. We build our ship by placing the ship coordinates into a list. Steps to build our ship:\n",
    "1. Assign random length to ship\n",
    "2. Randomly decide if ship will be vertical or horizontal\n",
    "3. Depending on whether ship is vertical or horizontal, randomly select a row or column and then assign rest of ship positions based on length and orientation.\n",
    "4. Return the list of ship coordinates"
   ]
  },
  {
   "cell_type": "code",
   "execution_count": 191,
   "metadata": {},
   "outputs": [],
   "source": [
    "# Create and return ship positional coordinates\n",
    "def build_ship(dims):\n",
    "    # Length of ship is random number between 2 and length of board\n",
    "    len_ship = random.randint(2, dims)\n",
    "    orientation = random.randint(0, 1)\n",
    "    # Ship is horizontal if orientation is 0 and vertical if orientation is 1\n",
    "    if orientation == 0:\n",
    "        # Randomly select row and create list of selected row * length of ship\n",
    "        row_ship = [random.randint(0, dims - 1)] * len_ship\n",
    "        # Randomly select column of first position of ship (Hence subtracting length of ship)\n",
    "        col = random.randint(0, dims - len_ship)\n",
    "        # Create list of column values\n",
    "        col_ship = list(range(col, col + len_ship))\n",
    "        # Create positional values from row and column lists\n",
    "        coords = tuple(zip(row_ship, col_ship))\n",
    "    else:\n",
    "        # Same as above except switch column and row\n",
    "        col_ship = [random.randint(0, dims - 1)] * len_ship\n",
    "        row = random.randint(0, dims - len_ship)\n",
    "        row_ship = list(range(row, row + len_ship))\n",
    "        coords = tuple(zip(row_ship, col_ship))\n",
    "    return list(coords)"
   ]
  },
  {
   "cell_type": "code",
   "execution_count": 193,
   "metadata": {},
   "outputs": [
    {
     "data": {
      "text/plain": [
       "[(0, 0), (1, 0), (2, 0), (3, 0)]"
      ]
     },
     "execution_count": 193,
     "metadata": {},
     "output_type": "execute_result"
    }
   ],
   "source": [
    "ship = build_ship(5); ship"
   ]
  },
  {
   "cell_type": "markdown",
   "metadata": {},
   "source": [
    "We built a ship! We can see our ship coordinates by calling ship after calling the function. (Remember that Python is 0-based indexed so a '0' really means the first column or row."
   ]
  },
  {
   "cell_type": "markdown",
   "metadata": {},
   "source": [
    "Now we need to create a way for us to guess the coordinates of the CPU's ship. To allow for user input, Python has a built-in function called `input()`. You can type whatever prompt you want into the input function.\n",
    "\n",
    "It's important to know that calling `input()` will return a string, or a bunch of character types. We want our coordinates to be numbers, so we will convert them to numbers with the `int()` function (int for integer). We will also subtract 1 from our guess so we don't have to remember that Python is 0-based indexed. "
   ]
  },
  {
   "cell_type": "code",
   "execution_count": 194,
   "metadata": {},
   "outputs": [],
   "source": [
    "def user_guess():\n",
    "    # Subtract 1 to adjust for python 0-based indexing\n",
    "    row = int(input('Row: ')) - 1\n",
    "    col = int(input('Col: ')) - 1\n",
    "    return (row, col)"
   ]
  },
  {
   "cell_type": "code",
   "execution_count": 195,
   "metadata": {},
   "outputs": [
    {
     "name": "stdout",
     "output_type": "stream",
     "text": [
      "Row: 1\n",
      "Col: 2\n"
     ]
    },
    {
     "data": {
      "text/plain": [
       "(0, 1)"
      ]
     },
     "execution_count": 195,
     "metadata": {},
     "output_type": "execute_result"
    }
   ],
   "source": [
    "x = user_guess(); x"
   ]
  },
  {
   "cell_type": "markdown",
   "metadata": {},
   "source": [
    "Great! We guessed the first row and second column and our function automatically converted it into a single pair of numbers that will work with 0-based indexing."
   ]
  },
  {
   "cell_type": "markdown",
   "metadata": {},
   "source": [
    "When we make a guess, we want the computer to know if we've already guessed it, if we hit the ship or if we missed. We will create a function `update_board` that takes four parameters: our guess, the board, the ship, and a list of all previous guesses. Then we will use if statements to update our board, guesses, and non-destroyed ship coordinates. We will also have the computer print statements so we know the results of our guess!"
   ]
  },
  {
   "cell_type": "code",
   "execution_count": 196,
   "metadata": {},
   "outputs": [],
   "source": [
    "def update_board(guess, board, ship, guesses):\n",
    "    if guess in guesses:\n",
    "        print('You already guessed that, silly!')\n",
    "        return board\n",
    "    guesses.append(guess)\n",
    "    if guess in ship:\n",
    "        print('You hit my battleship!')\n",
    "        # Update board with 'X' signifying a hit\n",
    "        board[guess[0]][guess[1]] = 'X'\n",
    "        # Remove this value from ship coordinates; useful for while loop in main()\n",
    "        ship.remove(guess)\n",
    "        return board\n",
    "    print('LOL miss!')\n",
    "    return board"
   ]
  },
  {
   "cell_type": "code",
   "execution_count": 197,
   "metadata": {},
   "outputs": [
    {
     "name": "stdout",
     "output_type": "stream",
     "text": [
      "Row: 2\n",
      "Col: 1\n",
      "You hit my battleship!\n",
      "O O O O O\n",
      "X O O O O\n",
      "O O O O O\n",
      "O O O O O\n",
      "O O O O O\n"
     ]
    }
   ],
   "source": [
    "# Since we haven't made any guesses yet, we pass in an empty list of guesses\n",
    "guesses = [] \n",
    "our_guess = user_guess()\n",
    "board = update_board(our_guess, board, ship, guesses)\n",
    "print_board(board)"
   ]
  },
  {
   "cell_type": "markdown",
   "metadata": {},
   "source": [
    "Terrific! We hit the battleship (we may have cheated by looking at the coordinates printed above lol). We made our guess and the computer told us the result and what the board now looks like! We're almost there!"
   ]
  },
  {
   "cell_type": "markdown",
   "metadata": {},
   "source": [
    "Let's create one more function. When we start the game, let's have some instructions so we know what we need to do."
   ]
  },
  {
   "cell_type": "code",
   "execution_count": 198,
   "metadata": {},
   "outputs": [],
   "source": [
    "def welcome_message():\n",
    "    print('Welcome to Battleship!')\n",
    "    print('There is a battleship hidden in this board. Enter your row and column guesses to sink it!')"
   ]
  },
  {
   "cell_type": "code",
   "execution_count": 199,
   "metadata": {},
   "outputs": [
    {
     "name": "stdout",
     "output_type": "stream",
     "text": [
      "Welcome to Battleship!\n",
      "There is a battleship hidden in this board. Enter your row and column guesses to sink it!\n"
     ]
    }
   ],
   "source": [
    "welcome_message()"
   ]
  },
  {
   "cell_type": "markdown",
   "metadata": {},
   "source": [
    "Now we have all the steps to make our game! A good coding practice is to have a function at the end of your code that calls all your codes in one place. This makes your program easy to read and organized! The function is traditionally named `main()`.\n",
    "\n",
    "In our main function, we have our instructions, we build a board and ship, and we create an empty list of guesses. What's that `while len(ship) > 0`, though? Well our computer has to know how long to let us guess. This is a while loop. It says that while the length of the ship's coordinates is greater than 0, keep asking for guesses (Remember we removed a ship coordinate if we guessed it correctly, so if we hit all the coordinates, the ship's list of coordinates will be empty) and printing the board. Once we've guessed all the coordinates and the length of the ship's coordinates is 0, print out a victory message!\n",
    "\n"
   ]
  },
  {
   "cell_type": "code",
   "execution_count": 200,
   "metadata": {},
   "outputs": [],
   "source": [
    "def main():\n",
    "    welcome_message()\n",
    "    board = build_board(5)\n",
    "    ship = build_ship(5)\n",
    "    guesses = []\n",
    "    while len(ship) > 0:\n",
    "        board = update_board(user_guess(), board, ship, guesses)\n",
    "        print_board(board)\n",
    "    print('You sunk my battleship!')\n",
    "    return "
   ]
  },
  {
   "cell_type": "markdown",
   "metadata": {},
   "source": [
    "We did it! Now just call the function! Have fun playing!"
   ]
  },
  {
   "cell_type": "markdown",
   "metadata": {},
   "source": [
    "main()"
   ]
  }
 ],
 "metadata": {
  "kernelspec": {
   "display_name": "Python 3",
   "language": "python",
   "name": "python3"
  },
  "language_info": {
   "codemirror_mode": {
    "name": "ipython",
    "version": 3
   },
   "file_extension": ".py",
   "mimetype": "text/x-python",
   "name": "python",
   "nbconvert_exporter": "python",
   "pygments_lexer": "ipython3",
   "version": "3.7.7"
  }
 },
 "nbformat": 4,
 "nbformat_minor": 4
}
